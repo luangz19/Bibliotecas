{
 "cells": [
  {
   "cell_type": "code",
   "execution_count": 1,
   "id": "2a63a5d4-2c43-4835-9b18-9294f0400664",
   "metadata": {},
   "outputs": [],
   "source": [
    "import pandas as pd\n",
    "from numpy import random"
   ]
  },
  {
   "cell_type": "code",
   "execution_count": 8,
   "id": "26819bdd-0602-4f88-877f-8fa53fc2776d",
   "metadata": {},
   "outputs": [
    {
     "data": {
      "text/plain": [
       "[1, 2, 3, 4, 5, 6, 7, 8, 9, 10]"
      ]
     },
     "execution_count": 8,
     "metadata": {},
     "output_type": "execute_result"
    }
   ],
   "source": [
    "index = [dia for dia in range(1,11)]\n",
    "index"
   ]
  },
  {
   "cell_type": "code",
   "execution_count": 13,
   "id": "2f12338c-688a-452e-8938-f77f7749e3f7",
   "metadata": {},
   "outputs": [
    {
     "data": {
      "text/plain": [
       "['Mês-1',\n",
       " 'Mês-2',\n",
       " 'Mês-3',\n",
       " 'Mês-4',\n",
       " 'Mês-5',\n",
       " 'Mês-6',\n",
       " 'Mês-7',\n",
       " 'Mês-8',\n",
       " 'Mês-9',\n",
       " 'Mês-10']"
      ]
     },
     "execution_count": 13,
     "metadata": {},
     "output_type": "execute_result"
    }
   ],
   "source": [
    "meses = [\"Mês-\"+str(mes) for mes in range(1,11)]\n",
    "meses"
   ]
  },
  {
   "cell_type": "code",
   "execution_count": 5,
   "id": "c9c9f8a6-4bb3-4c15-920d-ce2e6053a4e3",
   "metadata": {},
   "outputs": [],
   "source": [
    "temperatura = random.randint(15,45,(10,10))"
   ]
  },
  {
   "cell_type": "code",
   "execution_count": 6,
   "id": "9423b1fa-467b-45d7-bdae-da066d375e1e",
   "metadata": {},
   "outputs": [
    {
     "data": {
      "text/plain": [
       "array([[35, 17, 26, 28, 43, 24, 31, 29, 30, 41],\n",
       "       [40, 21, 42, 28, 15, 24, 28, 27, 36, 21],\n",
       "       [15, 36, 31, 21, 20, 27, 37, 37, 18, 36],\n",
       "       [37, 19, 35, 35, 16, 30, 27, 22, 42, 17],\n",
       "       [23, 19, 37, 16, 28, 43, 38, 35, 22, 21],\n",
       "       [38, 25, 22, 31, 28, 16, 34, 44, 22, 41],\n",
       "       [38, 26, 43, 28, 43, 32, 27, 20, 21, 40],\n",
       "       [20, 33, 40, 43, 25, 18, 24, 35, 17, 19],\n",
       "       [27, 23, 30, 17, 33, 39, 29, 36, 17, 22],\n",
       "       [34, 20, 21, 16, 18, 26, 38, 42, 19, 44]])"
      ]
     },
     "execution_count": 6,
     "metadata": {},
     "output_type": "execute_result"
    }
   ],
   "source": [
    "temperatura"
   ]
  },
  {
   "cell_type": "code",
   "execution_count": 14,
   "id": "a07eeb9d-fe67-4e3b-80db-915c7540901b",
   "metadata": {},
   "outputs": [
    {
     "data": {
      "text/html": [
       "<div>\n",
       "<style scoped>\n",
       "    .dataframe tbody tr th:only-of-type {\n",
       "        vertical-align: middle;\n",
       "    }\n",
       "\n",
       "    .dataframe tbody tr th {\n",
       "        vertical-align: top;\n",
       "    }\n",
       "\n",
       "    .dataframe thead th {\n",
       "        text-align: right;\n",
       "    }\n",
       "</style>\n",
       "<table border=\"1\" class=\"dataframe\">\n",
       "  <thead>\n",
       "    <tr style=\"text-align: right;\">\n",
       "      <th></th>\n",
       "      <th>Mês-1</th>\n",
       "      <th>Mês-2</th>\n",
       "      <th>Mês-3</th>\n",
       "      <th>Mês-4</th>\n",
       "      <th>Mês-5</th>\n",
       "      <th>Mês-6</th>\n",
       "      <th>Mês-7</th>\n",
       "      <th>Mês-8</th>\n",
       "      <th>Mês-9</th>\n",
       "      <th>Mês-10</th>\n",
       "    </tr>\n",
       "  </thead>\n",
       "  <tbody>\n",
       "    <tr>\n",
       "      <th>1</th>\n",
       "      <td>35</td>\n",
       "      <td>17</td>\n",
       "      <td>26</td>\n",
       "      <td>28</td>\n",
       "      <td>43</td>\n",
       "      <td>24</td>\n",
       "      <td>31</td>\n",
       "      <td>29</td>\n",
       "      <td>30</td>\n",
       "      <td>41</td>\n",
       "    </tr>\n",
       "    <tr>\n",
       "      <th>2</th>\n",
       "      <td>40</td>\n",
       "      <td>21</td>\n",
       "      <td>42</td>\n",
       "      <td>28</td>\n",
       "      <td>15</td>\n",
       "      <td>24</td>\n",
       "      <td>28</td>\n",
       "      <td>27</td>\n",
       "      <td>36</td>\n",
       "      <td>21</td>\n",
       "    </tr>\n",
       "    <tr>\n",
       "      <th>3</th>\n",
       "      <td>15</td>\n",
       "      <td>36</td>\n",
       "      <td>31</td>\n",
       "      <td>21</td>\n",
       "      <td>20</td>\n",
       "      <td>27</td>\n",
       "      <td>37</td>\n",
       "      <td>37</td>\n",
       "      <td>18</td>\n",
       "      <td>36</td>\n",
       "    </tr>\n",
       "    <tr>\n",
       "      <th>4</th>\n",
       "      <td>37</td>\n",
       "      <td>19</td>\n",
       "      <td>35</td>\n",
       "      <td>35</td>\n",
       "      <td>16</td>\n",
       "      <td>30</td>\n",
       "      <td>27</td>\n",
       "      <td>22</td>\n",
       "      <td>42</td>\n",
       "      <td>17</td>\n",
       "    </tr>\n",
       "    <tr>\n",
       "      <th>5</th>\n",
       "      <td>23</td>\n",
       "      <td>19</td>\n",
       "      <td>37</td>\n",
       "      <td>16</td>\n",
       "      <td>28</td>\n",
       "      <td>43</td>\n",
       "      <td>38</td>\n",
       "      <td>35</td>\n",
       "      <td>22</td>\n",
       "      <td>21</td>\n",
       "    </tr>\n",
       "    <tr>\n",
       "      <th>6</th>\n",
       "      <td>38</td>\n",
       "      <td>25</td>\n",
       "      <td>22</td>\n",
       "      <td>31</td>\n",
       "      <td>28</td>\n",
       "      <td>16</td>\n",
       "      <td>34</td>\n",
       "      <td>44</td>\n",
       "      <td>22</td>\n",
       "      <td>41</td>\n",
       "    </tr>\n",
       "    <tr>\n",
       "      <th>7</th>\n",
       "      <td>38</td>\n",
       "      <td>26</td>\n",
       "      <td>43</td>\n",
       "      <td>28</td>\n",
       "      <td>43</td>\n",
       "      <td>32</td>\n",
       "      <td>27</td>\n",
       "      <td>20</td>\n",
       "      <td>21</td>\n",
       "      <td>40</td>\n",
       "    </tr>\n",
       "    <tr>\n",
       "      <th>8</th>\n",
       "      <td>20</td>\n",
       "      <td>33</td>\n",
       "      <td>40</td>\n",
       "      <td>43</td>\n",
       "      <td>25</td>\n",
       "      <td>18</td>\n",
       "      <td>24</td>\n",
       "      <td>35</td>\n",
       "      <td>17</td>\n",
       "      <td>19</td>\n",
       "    </tr>\n",
       "    <tr>\n",
       "      <th>9</th>\n",
       "      <td>27</td>\n",
       "      <td>23</td>\n",
       "      <td>30</td>\n",
       "      <td>17</td>\n",
       "      <td>33</td>\n",
       "      <td>39</td>\n",
       "      <td>29</td>\n",
       "      <td>36</td>\n",
       "      <td>17</td>\n",
       "      <td>22</td>\n",
       "    </tr>\n",
       "    <tr>\n",
       "      <th>10</th>\n",
       "      <td>34</td>\n",
       "      <td>20</td>\n",
       "      <td>21</td>\n",
       "      <td>16</td>\n",
       "      <td>18</td>\n",
       "      <td>26</td>\n",
       "      <td>38</td>\n",
       "      <td>42</td>\n",
       "      <td>19</td>\n",
       "      <td>44</td>\n",
       "    </tr>\n",
       "  </tbody>\n",
       "</table>\n",
       "</div>"
      ],
      "text/plain": [
       "    Mês-1  Mês-2  Mês-3  Mês-4  Mês-5  Mês-6  Mês-7  Mês-8  Mês-9  Mês-10\n",
       "1      35     17     26     28     43     24     31     29     30      41\n",
       "2      40     21     42     28     15     24     28     27     36      21\n",
       "3      15     36     31     21     20     27     37     37     18      36\n",
       "4      37     19     35     35     16     30     27     22     42      17\n",
       "5      23     19     37     16     28     43     38     35     22      21\n",
       "6      38     25     22     31     28     16     34     44     22      41\n",
       "7      38     26     43     28     43     32     27     20     21      40\n",
       "8      20     33     40     43     25     18     24     35     17      19\n",
       "9      27     23     30     17     33     39     29     36     17      22\n",
       "10     34     20     21     16     18     26     38     42     19      44"
      ]
     },
     "execution_count": 14,
     "metadata": {},
     "output_type": "execute_result"
    }
   ],
   "source": [
    "# Criando um dataframe\n",
    "df = pd.DataFrame(temperatura, index=index, columns=meses)\n",
    "df"
   ]
  },
  {
   "cell_type": "code",
   "execution_count": 18,
   "id": "2d91f396-b2a5-420f-84d7-6d6030cb7a30",
   "metadata": {},
   "outputs": [
    {
     "name": "stdout",
     "output_type": "stream",
     "text": [
      " Temperatura máxima no Mês-1 = 40ºC\n",
      " Temperatura máxima no Mês-2 = 36ºC\n",
      " Temperatura máxima no Mês-3 = 43ºC\n",
      " Temperatura máxima no Mês-4 = 43ºC\n",
      " Temperatura máxima no Mês-5 = 43ºC\n",
      " Temperatura máxima no Mês-6 = 43ºC\n",
      " Temperatura máxima no Mês-7 = 38ºC\n",
      " Temperatura máxima no Mês-8 = 44ºC\n",
      " Temperatura máxima no Mês-9 = 42ºC\n",
      " Temperatura máxima no Mês-10 = 44ºC\n"
     ]
    }
   ],
   "source": [
    "for temp_max in meses:\n",
    "    print(f\" Temperatura máxima no {temp_max} = {df[temp_max].max()}ºC\")"
   ]
  },
  {
   "cell_type": "code",
   "execution_count": 19,
   "id": "56e84ea4-c208-492a-b943-fe598f52b64e",
   "metadata": {},
   "outputs": [
    {
     "name": "stdout",
     "output_type": "stream",
     "text": [
      " Temperatura mínima no Mês-1 = 15ºC\n",
      " Temperatura mínima no Mês-2 = 17ºC\n",
      " Temperatura mínima no Mês-3 = 21ºC\n",
      " Temperatura mínima no Mês-4 = 16ºC\n",
      " Temperatura mínima no Mês-5 = 15ºC\n",
      " Temperatura mínima no Mês-6 = 16ºC\n",
      " Temperatura mínima no Mês-7 = 24ºC\n",
      " Temperatura mínima no Mês-8 = 20ºC\n",
      " Temperatura mínima no Mês-9 = 17ºC\n",
      " Temperatura mínima no Mês-10 = 17ºC\n"
     ]
    }
   ],
   "source": [
    "for temp_max in meses:\n",
    "    print(f\" Temperatura mínima no {temp_max} = {df[temp_max].min()}ºC\")"
   ]
  },
  {
   "cell_type": "code",
   "execution_count": null,
   "id": "f7c625e4-5bb3-4964-8f69-044dc3422b51",
   "metadata": {},
   "outputs": [],
   "source": []
  }
 ],
 "metadata": {
  "kernelspec": {
   "display_name": "Python 3 (ipykernel)",
   "language": "python",
   "name": "python3"
  },
  "language_info": {
   "codemirror_mode": {
    "name": "ipython",
    "version": 3
   },
   "file_extension": ".py",
   "mimetype": "text/x-python",
   "name": "python",
   "nbconvert_exporter": "python",
   "pygments_lexer": "ipython3",
   "version": "3.12.2"
  }
 },
 "nbformat": 4,
 "nbformat_minor": 5
}
