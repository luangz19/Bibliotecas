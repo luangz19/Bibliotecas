{
 "cells": [
  {
   "cell_type": "code",
   "execution_count": 2,
   "id": "71287cda",
   "metadata": {},
   "outputs": [],
   "source": [
    "import numpy as np\n",
    "import matplotlib.pyplot as plt\n",
    "import matplotlib.animation as animation\n",
    "%matplotlib qt"
   ]
  },
  {
   "cell_type": "code",
   "execution_count": 6,
   "id": "a4d5de8e",
   "metadata": {},
   "outputs": [],
   "source": [
    "# Definindo o intervalo para x\n",
    "x = np.linspace(-10,11,100)"
   ]
  },
  {
   "cell_type": "code",
   "execution_count": 7,
   "id": "3a5ecc60",
   "metadata": {},
   "outputs": [],
   "source": [
    "y1 = x**2 # função crescente\n",
    "y2 = -x**2 # função decrescente"
   ]
  },
  {
   "cell_type": "code",
   "execution_count": 9,
   "id": "3a36a2f8",
   "metadata": {},
   "outputs": [
    {
     "name": "stderr",
     "output_type": "stream",
     "text": [
      "qt.glx: qglx_findConfig: Failed to finding matching FBConfig for QSurfaceFormat(version 2.0, options QFlags<QSurfaceFormat::FormatOption>(), depthBufferSize -1, redBufferSize 1, greenBufferSize 1, blueBufferSize 1, alphaBufferSize -1, stencilBufferSize -1, samples -1, swapBehavior QSurfaceFormat::SingleBuffer, swapInterval 1, colorSpace QSurfaceFormat::DefaultColorSpace, profile  QSurfaceFormat::NoProfile)\n",
      "No XVisualInfo for format QSurfaceFormat(version 2.0, options QFlags<QSurfaceFormat::FormatOption>(), depthBufferSize -1, redBufferSize 1, greenBufferSize 1, blueBufferSize 1, alphaBufferSize -1, stencilBufferSize -1, samples -1, swapBehavior QSurfaceFormat::SingleBuffer, swapInterval 1, colorSpace QSurfaceFormat::DefaultColorSpace, profile  QSurfaceFormat::NoProfile)\n",
      "Falling back to using screens root_visual.\n"
     ]
    }
   ],
   "source": [
    "fig,ax = plt.subplots()\n",
    "ax.set_xlim(-30,30)\n",
    "ax.set_ylim(-30,30)\n",
    "\n",
    "ax.set_xlabel(\"x\")\n",
    "ax.set_ylabel(\"y\")\n",
    "\n",
    "curvas = []\n",
    "\n",
    "for line in range(2):\n",
    "    line, = ax.plot([],[])\n",
    "    curvas.append(line)\n",
    "\n",
    "def update(frame):\n",
    "    curvas[0].set_data(x[:frame],y1[:frame])\n",
    "    curvas[1].set_data(x[:frame],y2[:frame])\n",
    "\n",
    "    return curvas[0],curvas[1],\n",
    "\n",
    "anime = animation.FuncAnimation(\n",
    "    fig=fig,\n",
    "    func=update,\n",
    "    frames=len(x),\n",
    "    interval=80,\n",
    ")\n",
    "\n",
    "plt.grid(linestyle=\":\")\n",
    "plt.show()"
   ]
  }
 ],
 "metadata": {
  "kernelspec": {
   "display_name": "base",
   "language": "python",
   "name": "python3"
  },
  "language_info": {
   "codemirror_mode": {
    "name": "ipython",
    "version": 3
   },
   "file_extension": ".py",
   "mimetype": "text/x-python",
   "name": "python",
   "nbconvert_exporter": "python",
   "pygments_lexer": "ipython3",
   "version": "3.12.2"
  }
 },
 "nbformat": 4,
 "nbformat_minor": 5
}
