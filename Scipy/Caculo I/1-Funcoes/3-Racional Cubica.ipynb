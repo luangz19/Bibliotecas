{
 "cells": [
  {
   "cell_type": "code",
   "execution_count": 1,
   "id": "f1660afe",
   "metadata": {},
   "outputs": [],
   "source": [
    "import numpy as np\n",
    "import matplotlib.pyplot as plt\n",
    "import matplotlib.animation as animation\n",
    "%matplotlib qt"
   ]
  },
  {
   "cell_type": "code",
   "execution_count": 17,
   "id": "fd73b8f3",
   "metadata": {},
   "outputs": [],
   "source": [
    "x = np.linspace(0.5,10,100)"
   ]
  },
  {
   "cell_type": "code",
   "execution_count": 18,
   "id": "1b0388e6",
   "metadata": {},
   "outputs": [],
   "source": [
    "y = (2*x - 1)**(1/3)"
   ]
  },
  {
   "cell_type": "code",
   "execution_count": 19,
   "id": "42ea1fb2",
   "metadata": {},
   "outputs": [
    {
     "name": "stderr",
     "output_type": "stream",
     "text": [
      "qt.glx: qglx_findConfig: Failed to finding matching FBConfig for QSurfaceFormat(version 2.0, options QFlags<QSurfaceFormat::FormatOption>(), depthBufferSize -1, redBufferSize 1, greenBufferSize 1, blueBufferSize 1, alphaBufferSize -1, stencilBufferSize -1, samples -1, swapBehavior QSurfaceFormat::SingleBuffer, swapInterval 1, colorSpace QSurfaceFormat::DefaultColorSpace, profile  QSurfaceFormat::NoProfile)\n",
      "No XVisualInfo for format QSurfaceFormat(version 2.0, options QFlags<QSurfaceFormat::FormatOption>(), depthBufferSize -1, redBufferSize 1, greenBufferSize 1, blueBufferSize 1, alphaBufferSize -1, stencilBufferSize -1, samples -1, swapBehavior QSurfaceFormat::SingleBuffer, swapInterval 1, colorSpace QSurfaceFormat::DefaultColorSpace, profile  QSurfaceFormat::NoProfile)\n",
      "Falling back to using screens root_visual.\n"
     ]
    }
   ],
   "source": [
    "fig,ax = plt.subplots()\n",
    "ax.set_xlim(min(x),max(x))\n",
    "ax.set_ylim(min(y),max(y))\n",
    "\n",
    "curva, = ax.plot([],[])\n",
    "\n",
    "def animate(frame):\n",
    "    curva.set_data(x[:frame],y[:frame])\n",
    "    return curva,\n",
    "\n",
    "anime = animation.FuncAnimation(\n",
    "    fig=fig,\n",
    "    func=animate,\n",
    "    frames=len(x),\n",
    "    interval=60\n",
    ")\n",
    "\n",
    "plt.show()"
   ]
  }
 ],
 "metadata": {
  "kernelspec": {
   "display_name": "base",
   "language": "python",
   "name": "python3"
  },
  "language_info": {
   "codemirror_mode": {
    "name": "ipython",
    "version": 3
   },
   "file_extension": ".py",
   "mimetype": "text/x-python",
   "name": "python",
   "nbconvert_exporter": "python",
   "pygments_lexer": "ipython3",
   "version": "3.12.2"
  }
 },
 "nbformat": 4,
 "nbformat_minor": 5
}
