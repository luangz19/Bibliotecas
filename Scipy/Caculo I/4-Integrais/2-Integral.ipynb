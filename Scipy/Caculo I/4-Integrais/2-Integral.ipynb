{
 "cells": [
  {
   "cell_type": "code",
   "execution_count": 113,
   "id": "cd076417-97af-4b4a-a956-472c687a0881",
   "metadata": {},
   "outputs": [],
   "source": [
    "import numpy as np\n",
    "import matplotlib.pyplot as plt\n",
    "from scipy.integrate import quad"
   ]
  },
  {
   "cell_type": "code",
   "execution_count": 114,
   "id": "76f839d9-0369-4a7f-b732-da342bd60c5e",
   "metadata": {},
   "outputs": [],
   "source": [
    "f = lambda x: x\n",
    "g = lambda x: x**2"
   ]
  },
  {
   "cell_type": "code",
   "execution_count": 115,
   "id": "ea918f48-7e4d-4746-84ad-e47ec9704831",
   "metadata": {},
   "outputs": [],
   "source": [
    "x = np.linspace(0,1,1001)"
   ]
  },
  {
   "cell_type": "code",
   "execution_count": 126,
   "id": "eee9f111-0ddc-4ff1-8e3b-8a9836ee9841",
   "metadata": {},
   "outputs": [
    {
     "data": {
      "image/png": "[encoded data removed]",
      "text/plain": [
       "<Figure size 640x480 with 1 Axes>"
      ]
     },
     "metadata": {},
     "output_type": "display_data"
    }
   ],
   "source": [
    "plt.style.use(\"dark_background\")\n",
    "plt.plot(x,f(x),linewidth=3, linestyle=\"-\")\n",
    "plt.plot(x,g(x),linewidth=3,linestyle=\"-\")\n",
    "for i in range(len(x)):\n",
    "    plt.vlines(x[i], ymin=g(x[i]),ymax=f(x[i]), color=\"grey\")"
   ]
  },
  {
   "cell_type": "code",
   "execution_count": 127,
   "id": "13340706-ffe9-43c6-853f-0e0355598b38",
   "metadata": {},
   "outputs": [],
   "source": [
    "# particionado o intervalo [0,1] em subintervalos\n",
    "N = 1001\n",
    "Particao = [i/(N-1) for i in range(N)]\n",
    "tamnaho = Particao[1]\n",
    "Altura_f = list(map(f,Particao))\n",
    "Altura_g = list(map(g,Particao))\n",
    "\n",
    "Area_sup_f = 0\n",
    "Area_sup_g = 0\n",
    "Area_inf_f = 0\n",
    "Area_inf_g = 0\n",
    "\n",
    "for i in range(len(Particao)):\n",
    "    Area_sup_f += Particao[1]*Altura_f[i]\n",
    "    Area_sup_g += Particao[1]*Altura_g[i]\n",
    "    Area_inf_f += Particao[1]*Altura_f[i]\n",
    "    Area_inf_g += Particao[1]*Altura_g[i]\n",
    "    \n",
    "Area_inf_f  = Area_inf_f -  Particao[1]*1\n",
    "Area_inf_g = Area_inf_g -  Particao[1]*1"
   ]
  },
  {
   "cell_type": "code",
   "execution_count": 128,
   "id": "d73914f1-b0d9-49c7-a12e-9804bee29a9b",
   "metadata": {},
   "outputs": [
    {
     "name": "stdout",
     "output_type": "stream",
     "text": [
      "Área abaixo da f está 0.49950000000000017 <= A <= 0.5005000000000002\n",
      "Área Aproximada A = 0.5000000000000002\n",
      "--------------------------------------------------\n",
      "Área abaixo da g está 0.3328335000000003 <= B <= 0.3338335000000003\n",
      "Área Aproximada B = 0.3333335000000003\n"
     ]
    }
   ],
   "source": [
    "print(f\"Área abaixo da f está {Area_inf_f} <= A <= {Area_sup_f}\")\n",
    "Area_f = (Area_inf_f + Area_sup_f)/2\n",
    "print(f\"Área Aproximada A = {Area_f}\")\n",
    "print(25*\"--\")\n",
    "\n",
    "print(f\"Área abaixo da g está {Area_inf_g} <= B <= {Area_sup_g}\")\n",
    "Area_g = (Area_inf_g + Area_sup_g)/2\n",
    "print(f\"Área Aproximada B = {Area_g}\")"
   ]
  },
  {
   "cell_type": "code",
   "execution_count": 129,
   "id": "c936afdb-fb53-41fa-913c-28f43737f974",
   "metadata": {},
   "outputs": [
    {
     "name": "stdout",
     "output_type": "stream",
     "text": [
      "A - B = 0.16666649999999994\n"
     ]
    }
   ],
   "source": [
    "# Area entre as f e g \n",
    "Area_f_g = Area_f - Area_g\n",
    "print(f\"A - B = {Area_f_g}\")"
   ]
  },
  {
   "cell_type": "code",
   "execution_count": 130,
   "id": "b0f038f2-f080-4c38-ab32-a20f9865a1c5",
   "metadata": {},
   "outputs": [
    {
     "name": "stdout",
     "output_type": "stream",
     "text": [
      "Área entre f e g = 0.16666666666666663\n"
     ]
    }
   ],
   "source": [
    "Integral_f = quad(f,0,1)\n",
    "Integral_g = quad(g,0,1)\n",
    "\n",
    "Area_f,erro_f = Integral_f\n",
    "Area_g,erro_g = Integral_g\n",
    "\n",
    "Area = Area_f - Area_g\n",
    "\n",
    "print(f\"Área entre f e g = {Area}\")"
   ]
  }
 ],
 "metadata": {
  "kernelspec": {
   "display_name": "Python 3 (ipykernel)",
   "language": "python",
   "name": "python3"
  },
  "language_info": {
   "codemirror_mode": {
    "name": "ipython",
    "version": 3
   },
   "file_extension": ".py",
   "mimetype": "text/x-python",
   "name": "python",
   "nbconvert_exporter": "python",
   "pygments_lexer": "ipython3",
   "version": "3.12.2"
  }
 },
 "nbformat": 4,
 "nbformat_minor": 5
}
