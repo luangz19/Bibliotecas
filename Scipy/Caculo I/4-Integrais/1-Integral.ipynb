{
 "cells": [
  {
   "cell_type": "code",
   "execution_count": 94,
   "id": "6b2a1dc1-34c5-4a1e-b73d-962cfb9a0a5e",
   "metadata": {},
   "outputs": [],
   "source": [
    "import numpy as np\n",
    "import matplotlib.pyplot as plt\n",
    "from scipy.integrate import quad"
   ]
  },
  {
   "cell_type": "code",
   "execution_count": 95,
   "id": "46c43e5a-7981-44e8-8072-415a0afca052",
   "metadata": {},
   "outputs": [],
   "source": [
    "f = lambda x: x\n",
    "g = lambda x: x**2"
   ]
  },
  {
   "cell_type": "code",
   "execution_count": 96,
   "id": "b423ac31-5f51-4864-acc1-32a2fa090b0c",
   "metadata": {},
   "outputs": [],
   "source": [
    "x = np.linspace(0,1,101)"
   ]
  },
  {
   "cell_type": "code",
   "execution_count": 97,
   "id": "912b0fb0-d913-4fa3-9cb8-e528eeb28e29",
   "metadata": {},
   "outputs": [
    {
     "data": {
      "image/png": "[encoded data removed]",
      "text/plain": [
       "<Figure size 640x480 with 2 Axes>"
      ]
     },
     "metadata": {},
     "output_type": "display_data"
    }
   ],
   "source": [
    "plt.style.use(\"dark_background\")\n",
    "fig,ax = plt.subplots(1,2)\n",
    "ax[0].plot(x,f(x))\n",
    "ax[1].plot(x,g(x))\n",
    "for i in range(len(x)):\n",
    "    ax[0].vlines(x[i], ymin=0,ymax=f(x[i]), color=\"r\")\n",
    "    ax[1].vlines(x[i], ymin=0,ymax=g(x[i]), color=\"b\")\n",
    "plt.tight_layout()"
   ]
  },
  {
   "cell_type": "code",
   "execution_count": 98,
   "id": "6f836c71-b958-408c-8b87-9ab70fc67e63",
   "metadata": {},
   "outputs": [
    {
     "name": "stdout",
     "output_type": "stream",
     "text": [
      "f(x) = x, Área = 0.5\n",
      "g(x) = x², Área = 0.33333333333333337\n"
     ]
    }
   ],
   "source": [
    "# Integral de f e g em [0,1]\n",
    "integral_f = quad(f,0,1)\n",
    "integral_g = quad(g,0,1)\n",
    "\n",
    "Area_f,erro_f = integral_f\n",
    "Area_g,erro_g = integral_g\n",
    "\n",
    "print(f\"f(x) = x, Área = {Area_f}\")\n",
    "print(f\"g(x) = x², Área = {Area_g}\")"
   ]
  },
  {
   "cell_type": "code",
   "execution_count": 102,
   "id": "29714167-7518-46db-ab2d-11f95f60542f",
   "metadata": {},
   "outputs": [
    {
     "name": "stdout",
     "output_type": "stream",
     "text": [
      "0.4444444444444444 <= Área <= 0.5555555555555556\n",
      "f(x) = x, Área = 0.5\n"
     ]
    }
   ],
   "source": [
    "# particionado o intervalo [0,1] em subintervalos\n",
    "N = 10\n",
    "Particao = np.zeros(N)\n",
    "Area_Superior = np.zeros(N)\n",
    "Area_Inferior = np.zeros(N)\n",
    "\n",
    "for i in range(1,N):\n",
    "    Particao[i] = i/(N-1)\n",
    "    Area_Superior[i] = Particao[1] * f(Particao[i])\n",
    "    if  Particao[i] < 1:\n",
    "        Area_Inferior[i] = Particao[1] * f(Particao[i])\n",
    "\n",
    "print(f\"{Area_Inferior.sum()} <= Área <= {Area_Superior.sum()}\")\n",
    "print(f\"f(x) = x, Área = {(Area_Inferior.sum() + Area_Superior.sum())/2}\")"
   ]
  },
  {
   "cell_type": "code",
   "execution_count": 103,
   "id": "87a7d0da-a3c9-465a-9c44-4109e1c96ba9",
   "metadata": {},
   "outputs": [
    {
     "name": "stdout",
     "output_type": "stream",
     "text": [
      "0.3328335 <= Área <= 0.3338335\n",
      "g(x) = x², Área = 0.3333335\n"
     ]
    }
   ],
   "source": [
    "# particionado o intervalo [0,1] em subintervalos\n",
    "N = 1001\n",
    "Particao = np.zeros(N)\n",
    "Area_Superior = np.zeros(N)\n",
    "Area_Inferior = np.zeros(N)\n",
    "\n",
    "for i in range(1,N):\n",
    "    Particao[i] = i/(N-1)\n",
    "    Area_Superior[i] = Particao[1] * g(Particao[i])\n",
    "    if  Particao[i] < 1:\n",
    "        Area_Inferior[i] = Particao[1] * g(Particao[i])\n",
    "\n",
    "print(f\"{Area_Inferior.sum()} <= Área <= {Area_Superior.sum()}\")\n",
    "print(f\"g(x) = x², Área = {(Area_Inferior.sum() + Area_Superior.sum())/2}\")"
   ]
  },
  {
   "cell_type": "code",
   "execution_count": 101,
   "id": "b522c6cb-76c2-47fe-ac7f-a50c6647c855",
   "metadata": {},
   "outputs": [
    {
     "name": "stdout",
     "output_type": "stream",
     "text": [
      "0.3328335 <= Área <= 0.3338335\n",
      "Área aproximada = 0.3333335\n"
     ]
    }
   ],
   "source": [
    "# particionado o intervalo [0,1] em subintervalos\n",
    "N = 1001\n",
    "Particao = np.zeros(N)\n",
    "Area_Superior = np.zeros(N)\n",
    "Area_Inferior = np.zeros(N)\n",
    "\n",
    "for i in range(1,N):\n",
    "    Particao[i] = i/(N-1)\n",
    "    Area_Superior[i] = Particao[1] * g(Particao[i])\n",
    "    if  Particao[i] < 1:\n",
    "        Area_Inferior[i] = Particao[1] * g(Particao[i])\n",
    "\n",
    "print(f\"{Area_Inferior.sum()} <= Área <= {Area_Superior.sum()}\")\n",
    "print(f\"Área aproximada = {(Area_Inferior.sum() + Area_Superior.sum())/2}\")"
   ]
  }
 ],
 "metadata": {
  "kernelspec": {
   "display_name": "Python 3 (ipykernel)",
   "language": "python",
   "name": "python3"
  },
  "language_info": {
   "codemirror_mode": {
    "name": "ipython",
    "version": 3
   },
   "file_extension": ".py",
   "mimetype": "text/x-python",
   "name": "python",
   "nbconvert_exporter": "python",
   "pygments_lexer": "ipython3",
   "version": "3.12.2"
  }
 },
 "nbformat": 4,
 "nbformat_minor": 5
}
