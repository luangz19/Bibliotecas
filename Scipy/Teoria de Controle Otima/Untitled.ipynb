{
 "cells": [
  {
   "cell_type": "code",
   "execution_count": 1,
   "id": "8398eb4d-e297-4bd9-8cf4-cd75a1c5cf0b",
   "metadata": {},
   "outputs": [],
   "source": [
    "import numpy as np\n",
    "from scipy.integrate import solve_bvp, solve_ivp\n",
    "import matplotlib.pyplot as plt"
   ]
  },
  {
   "cell_type": "code",
   "execution_count": 2,
   "id": "58188a7e-e666-438a-b4ad-f02f90321967",
   "metadata": {},
   "outputs": [],
   "source": [
    "P0\t=\t300\n",
    "F0\t=\t50\n",
    "S0\t=\t3\n",
    "E0\t=\t2\n",
    "rp\t=\t0.15\n",
    "k\t=\t1000\n",
    "rh\t=\t1.25\n",
    "a1\t=\t0.4515\n",
    "a2\t=\t0.7\n",
    "c1\t=\t1\n",
    "c2\t=\t1\n",
    "m\t=\t0.8\n",
    "bF\t=\t0.75\n",
    "bS\t=\t0.75\n",
    "dF\t=\t0.0238\n",
    "dS\t=\t0.0238\n",
    "dE\t=\t0.0140\n",
    "alphaF\t=\t0.0714\n",
    "alphaS\t=\t0.0714\n",
    "beta\t=\t0.0714\n",
    "alphaE\t=\t0.0704\n",
    "e1\t=\t9272\n",
    "e2\t=\t0.0029\n",
    "e3\t=\t1\n",
    "epsilon1\t=\t0.70\n",
    "epsilon2\t=\t0.85\n",
    "W0\t=\t100\n",
    "W1\t=\t1\n",
    "W2\t=\t1\n",
    "T\t=\t15\n",
    "u1 = 1\n",
    "u2 = 1\n",
    "R1F = 1\n",
    "R2FS = 1\n",
    "R1_F = R1F\n",
    "R2_F = R2FS\n",
    "R2_S = R2_F\n",
    "\n",
    "t = np.linspace(0,T,100)"
   ]
  },
  {
   "cell_type": "code",
   "execution_count": 3,
   "id": "bef0c39c-5caa-4bdc-b885-f3857542760b",
   "metadata": {},
   "outputs": [],
   "source": [
    "def Sistema(t,Y):\n",
    "    P,F,S,E = Y\n",
    "    dPdt = rp*P*(1 - P/k) - ((a1*P)/(m + c1*P))*F - ((a2*P)/(m + c2*P))*S\n",
    "    dFdt = ((e1*a1*P)/(m + c1*P))*((rh*F)/(1 + F + S))*F - ((bF*F)/(1 + F + S))*E - (dF + alphaF*F + beta*S)*F\n",
    "    dSdt = ((e2*a2*P)/(m + c2*P))*S - (dS + alphaS*S + beta*F)*S - ((bS*S)/(1 + F + S))*E + epsilon1*u1*R1F\n",
    "    dEdt = ((e3*(bF*F+bS*S))/(1+F+S))*E - (dE + alphaE)*E + epsilon2*u2*R2FS\n",
    "    return [dPdt,dFdt,dSdt,dEdt]\n",
    "\n",
    "z0 = [P0,F0,S0,E0]\n",
    "\n",
    "t = np.linspace(0,T,100)\n",
    "sol = solve_ivp(Sistema,[0,T],z0,t_eval=t)"
   ]
  },
  {
   "cell_type": "code",
   "execution_count": 6,
   "id": "e3f875a9-428e-4bb6-8c57-0a97a67e0bd2",
   "metadata": {},
   "outputs": [],
   "source": [
    "def Sistema_Adj(t,p):\n",
    "    p1,p2,p3,p4 = p\n",
    "    \n",
    "    dp1 = (\n",
    "        (p1 * F - (e1 * rh * p2 * F**2) / (1 + F + S)) * (a1 * m) / (m + c1 * P)**2\n",
    "        + (a2 * m * (p1 - e2 * p3) * S) / (m + c2 * P)**2\n",
    "        - rp * p1 * (1 - 2 * P / k)\n",
    "    )\n",
    "\n",
    "    dp2 = (\n",
    "        -W0\n",
    "        + (a1 * p1 * P) / (m + c1 * P)\n",
    "        + (bF * (p2 - e3 * p4) * E * (1 + S)) / (1 + F + S)\n",
    "        + (bS * (e3 * p4 - p3) * S * E) / (1 + F + S)**2\n",
    "        + (p2 + p3) * beta * S\n",
    "        + p2 * (\n",
    "            dF + 2 * alphaF * F\n",
    "            - (e1 * a1 * rh * P * 2 * F * ((1 + S) + F**2)) / ((m + c1 * P) * (1 + F + S)**2)\n",
    "        )\n",
    "        - p3 * epsilon1 * u1 * R1_F\n",
    "        - p4 * epsilon2 * u2 * R2_F\n",
    "    )\n",
    "\n",
    "    dp3 = (\n",
    "        (a2 * (p1 - e2 * p3) * P) / (m + c2 * P)\n",
    "        + (bF * (e3 * p4 - p2) * F * E) / (1 + F + S)**2\n",
    "        + (bS * (p3 - e3 * p4) * E * (1 + F)) / (1 + F + S)**2\n",
    "        + (p2 - p3) * beta * F\n",
    "        + (e1 * a1 * p2 * P) / (m + c1 * P) * rh * F**2 / (1 + F + S)**2\n",
    "        + p3 * (dS + 2 * alphaS * S)\n",
    "        - p4 * epsilon2 * u2 * R2_S\n",
    "    )\n",
    "\n",
    "    dp4 = (\n",
    "        (bF * (p2 - e3 * p4) * F) / (1 + F + S)\n",
    "        + (bS * (p3 - e3 * p4) * S) / (1 + F + S)\n",
    "        + p4 * (dE + 2 * alphaE * E)\n",
    "    )\n",
    "    return [dp1,dp2,dp3,dp4]"
   ]
  },
  {
   "cell_type": "code",
   "execution_count": 7,
   "id": "8cab593b-4bf1-4ae1-8687-81feec8e2148",
   "metadata": {},
   "outputs": [
    {
     "ename": "NameError",
     "evalue": "name 'F' is not defined",
     "output_type": "error",
     "traceback": [
      "\u001b[0;31m---------------------------------------------------------------------------\u001b[0m",
      "\u001b[0;31mNameError\u001b[0m                                 Traceback (most recent call last)",
      "Cell \u001b[0;32mIn[7], line 3\u001b[0m\n\u001b[1;32m      1\u001b[0m w0 \u001b[38;5;241m=\u001b[39m [\u001b[38;5;241m0\u001b[39m,\u001b[38;5;241m0\u001b[39m,\u001b[38;5;241m0\u001b[39m,\u001b[38;5;241m0\u001b[39m]\n\u001b[0;32m----> 3\u001b[0m sol2 \u001b[38;5;241m=\u001b[39m solve_ivp(Sistema_Adj,[\u001b[38;5;241m0\u001b[39m,T],w0,t_eval\u001b[38;5;241m=\u001b[39mt)\n",
      "File \u001b[0;32m~/anaconda3/lib/python3.12/site-packages/scipy/integrate/_ivp/ivp.py:621\u001b[0m, in \u001b[0;36msolve_ivp\u001b[0;34m(fun, t_span, y0, method, t_eval, dense_output, events, vectorized, args, **options)\u001b[0m\n\u001b[1;32m    618\u001b[0m \u001b[38;5;28;01mif\u001b[39;00m method \u001b[38;5;129;01min\u001b[39;00m METHODS:\n\u001b[1;32m    619\u001b[0m     method \u001b[38;5;241m=\u001b[39m METHODS[method]\n\u001b[0;32m--> 621\u001b[0m solver \u001b[38;5;241m=\u001b[39m method(fun, t0, y0, tf, vectorized\u001b[38;5;241m=\u001b[39mvectorized, \u001b[38;5;241m*\u001b[39m\u001b[38;5;241m*\u001b[39moptions)\n\u001b[1;32m    623\u001b[0m \u001b[38;5;28;01mif\u001b[39;00m t_eval \u001b[38;5;129;01mis\u001b[39;00m \u001b[38;5;28;01mNone\u001b[39;00m:\n\u001b[1;32m    624\u001b[0m     ts \u001b[38;5;241m=\u001b[39m [t0]\n",
      "File \u001b[0;32m~/anaconda3/lib/python3.12/site-packages/scipy/integrate/_ivp/rk.py:94\u001b[0m, in \u001b[0;36mRungeKutta.__init__\u001b[0;34m(self, fun, t0, y0, t_bound, max_step, rtol, atol, vectorized, first_step, **extraneous)\u001b[0m\n\u001b[1;32m     92\u001b[0m \u001b[38;5;28mself\u001b[39m\u001b[38;5;241m.\u001b[39mmax_step \u001b[38;5;241m=\u001b[39m validate_max_step(max_step)\n\u001b[1;32m     93\u001b[0m \u001b[38;5;28mself\u001b[39m\u001b[38;5;241m.\u001b[39mrtol, \u001b[38;5;28mself\u001b[39m\u001b[38;5;241m.\u001b[39matol \u001b[38;5;241m=\u001b[39m validate_tol(rtol, atol, \u001b[38;5;28mself\u001b[39m\u001b[38;5;241m.\u001b[39mn)\n\u001b[0;32m---> 94\u001b[0m \u001b[38;5;28mself\u001b[39m\u001b[38;5;241m.\u001b[39mf \u001b[38;5;241m=\u001b[39m \u001b[38;5;28mself\u001b[39m\u001b[38;5;241m.\u001b[39mfun(\u001b[38;5;28mself\u001b[39m\u001b[38;5;241m.\u001b[39mt, \u001b[38;5;28mself\u001b[39m\u001b[38;5;241m.\u001b[39my)\n\u001b[1;32m     95\u001b[0m \u001b[38;5;28;01mif\u001b[39;00m first_step \u001b[38;5;129;01mis\u001b[39;00m \u001b[38;5;28;01mNone\u001b[39;00m:\n\u001b[1;32m     96\u001b[0m     \u001b[38;5;28mself\u001b[39m\u001b[38;5;241m.\u001b[39mh_abs \u001b[38;5;241m=\u001b[39m select_initial_step(\n\u001b[1;32m     97\u001b[0m         \u001b[38;5;28mself\u001b[39m\u001b[38;5;241m.\u001b[39mfun, \u001b[38;5;28mself\u001b[39m\u001b[38;5;241m.\u001b[39mt, \u001b[38;5;28mself\u001b[39m\u001b[38;5;241m.\u001b[39my, \u001b[38;5;28mself\u001b[39m\u001b[38;5;241m.\u001b[39mf, \u001b[38;5;28mself\u001b[39m\u001b[38;5;241m.\u001b[39mdirection,\n\u001b[1;32m     98\u001b[0m         \u001b[38;5;28mself\u001b[39m\u001b[38;5;241m.\u001b[39merror_estimator_order, \u001b[38;5;28mself\u001b[39m\u001b[38;5;241m.\u001b[39mrtol, \u001b[38;5;28mself\u001b[39m\u001b[38;5;241m.\u001b[39matol)\n",
      "File \u001b[0;32m~/anaconda3/lib/python3.12/site-packages/scipy/integrate/_ivp/base.py:154\u001b[0m, in \u001b[0;36mOdeSolver.__init__.<locals>.fun\u001b[0;34m(t, y)\u001b[0m\n\u001b[1;32m    152\u001b[0m \u001b[38;5;28;01mdef\u001b[39;00m \u001b[38;5;21mfun\u001b[39m(t, y):\n\u001b[1;32m    153\u001b[0m     \u001b[38;5;28mself\u001b[39m\u001b[38;5;241m.\u001b[39mnfev \u001b[38;5;241m+\u001b[39m\u001b[38;5;241m=\u001b[39m \u001b[38;5;241m1\u001b[39m\n\u001b[0;32m--> 154\u001b[0m     \u001b[38;5;28;01mreturn\u001b[39;00m \u001b[38;5;28mself\u001b[39m\u001b[38;5;241m.\u001b[39mfun_single(t, y)\n",
      "File \u001b[0;32m~/anaconda3/lib/python3.12/site-packages/scipy/integrate/_ivp/base.py:23\u001b[0m, in \u001b[0;36mcheck_arguments.<locals>.fun_wrapped\u001b[0;34m(t, y)\u001b[0m\n\u001b[1;32m     22\u001b[0m \u001b[38;5;28;01mdef\u001b[39;00m \u001b[38;5;21mfun_wrapped\u001b[39m(t, y):\n\u001b[0;32m---> 23\u001b[0m     \u001b[38;5;28;01mreturn\u001b[39;00m np\u001b[38;5;241m.\u001b[39masarray(fun(t, y), dtype\u001b[38;5;241m=\u001b[39mdtype)\n",
      "Cell \u001b[0;32mIn[6], line 5\u001b[0m, in \u001b[0;36mSistema_Adj\u001b[0;34m(t, p)\u001b[0m\n\u001b[1;32m      1\u001b[0m \u001b[38;5;28;01mdef\u001b[39;00m \u001b[38;5;21mSistema_Adj\u001b[39m(t,p):\n\u001b[1;32m      2\u001b[0m     p1,p2,p3,p4 \u001b[38;5;241m=\u001b[39m p\n\u001b[1;32m      4\u001b[0m     dp1 \u001b[38;5;241m=\u001b[39m (\n\u001b[0;32m----> 5\u001b[0m         (p1 \u001b[38;5;241m*\u001b[39m F \u001b[38;5;241m-\u001b[39m (e1 \u001b[38;5;241m*\u001b[39m rh \u001b[38;5;241m*\u001b[39m p2 \u001b[38;5;241m*\u001b[39m F\u001b[38;5;241m*\u001b[39m\u001b[38;5;241m*\u001b[39m\u001b[38;5;241m2\u001b[39m) \u001b[38;5;241m/\u001b[39m (\u001b[38;5;241m1\u001b[39m \u001b[38;5;241m+\u001b[39m F \u001b[38;5;241m+\u001b[39m S)) \u001b[38;5;241m*\u001b[39m (a1 \u001b[38;5;241m*\u001b[39m m) \u001b[38;5;241m/\u001b[39m (m \u001b[38;5;241m+\u001b[39m c1 \u001b[38;5;241m*\u001b[39m P)\u001b[38;5;241m*\u001b[39m\u001b[38;5;241m*\u001b[39m\u001b[38;5;241m2\u001b[39m\n\u001b[1;32m      6\u001b[0m         \u001b[38;5;241m+\u001b[39m (a2 \u001b[38;5;241m*\u001b[39m m \u001b[38;5;241m*\u001b[39m (p1 \u001b[38;5;241m-\u001b[39m e2 \u001b[38;5;241m*\u001b[39m p3) \u001b[38;5;241m*\u001b[39m S) \u001b[38;5;241m/\u001b[39m (m \u001b[38;5;241m+\u001b[39m c2 \u001b[38;5;241m*\u001b[39m P)\u001b[38;5;241m*\u001b[39m\u001b[38;5;241m*\u001b[39m\u001b[38;5;241m2\u001b[39m\n\u001b[1;32m      7\u001b[0m         \u001b[38;5;241m-\u001b[39m rp \u001b[38;5;241m*\u001b[39m p1 \u001b[38;5;241m*\u001b[39m (\u001b[38;5;241m1\u001b[39m \u001b[38;5;241m-\u001b[39m \u001b[38;5;241m2\u001b[39m \u001b[38;5;241m*\u001b[39m P \u001b[38;5;241m/\u001b[39m k)\n\u001b[1;32m      8\u001b[0m     )\n\u001b[1;32m     10\u001b[0m     dp2 \u001b[38;5;241m=\u001b[39m (\n\u001b[1;32m     11\u001b[0m         \u001b[38;5;241m-\u001b[39mW0\n\u001b[1;32m     12\u001b[0m         \u001b[38;5;241m+\u001b[39m (a1 \u001b[38;5;241m*\u001b[39m p1 \u001b[38;5;241m*\u001b[39m P) \u001b[38;5;241m/\u001b[39m (m \u001b[38;5;241m+\u001b[39m c1 \u001b[38;5;241m*\u001b[39m P)\n\u001b[0;32m   (...)\u001b[0m\n\u001b[1;32m     21\u001b[0m         \u001b[38;5;241m-\u001b[39m p4 \u001b[38;5;241m*\u001b[39m epsilon2 \u001b[38;5;241m*\u001b[39m u2 \u001b[38;5;241m*\u001b[39m R2_F\n\u001b[1;32m     22\u001b[0m     )\n\u001b[1;32m     24\u001b[0m     dp3 \u001b[38;5;241m=\u001b[39m (\n\u001b[1;32m     25\u001b[0m         (a2 \u001b[38;5;241m*\u001b[39m (p1 \u001b[38;5;241m-\u001b[39m e2 \u001b[38;5;241m*\u001b[39m p3) \u001b[38;5;241m*\u001b[39m P) \u001b[38;5;241m/\u001b[39m (m \u001b[38;5;241m+\u001b[39m c2 \u001b[38;5;241m*\u001b[39m P)\n\u001b[1;32m     26\u001b[0m         \u001b[38;5;241m+\u001b[39m (bF \u001b[38;5;241m*\u001b[39m (e3 \u001b[38;5;241m*\u001b[39m p4 \u001b[38;5;241m-\u001b[39m p2) \u001b[38;5;241m*\u001b[39m F \u001b[38;5;241m*\u001b[39m E) \u001b[38;5;241m/\u001b[39m (\u001b[38;5;241m1\u001b[39m \u001b[38;5;241m+\u001b[39m F \u001b[38;5;241m+\u001b[39m S)\u001b[38;5;241m*\u001b[39m\u001b[38;5;241m*\u001b[39m\u001b[38;5;241m2\u001b[39m\n\u001b[0;32m   (...)\u001b[0m\n\u001b[1;32m     31\u001b[0m         \u001b[38;5;241m-\u001b[39m p4 \u001b[38;5;241m*\u001b[39m epsilon2 \u001b[38;5;241m*\u001b[39m u2 \u001b[38;5;241m*\u001b[39m R2_S\n\u001b[1;32m     32\u001b[0m     )\n",
      "\u001b[0;31mNameError\u001b[0m: name 'F' is not defined"
     ]
    }
   ],
   "source": [
    "w0 = [0,0,0,0]\n",
    "\n",
    "sol2 = solve_ivp(Sistema_Adj,[0,T],w0,t_eval=t)"
   ]
  },
  {
   "cell_type": "code",
   "execution_count": null,
   "id": "375e857f-dbf7-4988-9a93-736fe14b90e5",
   "metadata": {},
   "outputs": [],
   "source": []
  }
 ],
 "metadata": {
  "kernelspec": {
   "display_name": "Python 3 (ipykernel)",
   "language": "python",
   "name": "python3"
  },
  "language_info": {
   "codemirror_mode": {
    "name": "ipython",
    "version": 3
   },
   "file_extension": ".py",
   "mimetype": "text/x-python",
   "name": "python",
   "nbconvert_exporter": "python",
   "pygments_lexer": "ipython3",
   "version": "3.12.2"
  }
 },
 "nbformat": 4,
 "nbformat_minor": 5
}
