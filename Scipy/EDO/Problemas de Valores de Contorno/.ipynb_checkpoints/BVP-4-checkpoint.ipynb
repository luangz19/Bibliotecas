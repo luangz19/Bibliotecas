{
 "cells": [
  {
   "cell_type": "code",
   "execution_count": 13,
   "id": "2190e1eb-9cd5-46e6-a260-0a49e97f424e",
   "metadata": {},
   "outputs": [],
   "source": [
    "import numpy as np\n",
    "import matplotlib.pyplot as plt\n",
    "from scipy.integrate import solve_bvp"
   ]
  },
  {
   "cell_type": "code",
   "execution_count": 14,
   "id": "3e536e95-e5d9-4e97-8766-1bfe004efa43",
   "metadata": {},
   "outputs": [],
   "source": [
    "# y\" + 2y = 0, y(0) = 0, y(pi) = 0\n",
    "# y[0] = y\n",
    "# y[1] = y'\n",
    "# y\" = -2y\n",
    "\n",
    "# Definindo o modelo\n",
    "def Model(x,y):\n",
    "    return np.vstack((y[1],-2*y[0]))"
   ]
  },
  {
   "cell_type": "code",
   "execution_count": 15,
   "id": "90cbae7d-8798-4a44-93e5-1bbbe32ac6f9",
   "metadata": {},
   "outputs": [],
   "source": [
    "# Definindo as condições de contorno\n",
    "def bc(ya,yb):\n",
    "    return np.array([ya[0],yb[0]])"
   ]
  },
  {
   "cell_type": "code",
   "execution_count": 16,
   "id": "a87d1c45-8a37-4cbb-86c0-ddee6360425d",
   "metadata": {},
   "outputs": [],
   "source": [
    "x = np.linspace(0,np.pi,10)\n",
    "y = np.zeros((2,x.size))"
   ]
  },
  {
   "cell_type": "code",
   "execution_count": 17,
   "id": "1524ea56-c5d7-4fc8-811e-2b4f7c419a50",
   "metadata": {},
   "outputs": [],
   "source": [
    "sol = solve_bvp(Model,bc,x,y)"
   ]
  },
  {
   "cell_type": "code",
   "execution_count": 18,
   "id": "edefde2b-12df-4ed8-9b9f-2a11ea31a878",
   "metadata": {},
   "outputs": [],
   "source": [
    "x_p = np.linspace(0,np.pi,100)\n",
    "y_p = sol.sol(x_p)[0]"
   ]
  },
  {
   "cell_type": "code",
   "execution_count": 19,
   "id": "3bacb023-109a-4a30-a912-9b28a30be03c",
   "metadata": {},
   "outputs": [
    {
     "data": {
      "text/plain": [
       "[<matplotlib.lines.Line2D at 0x73706d979eb0>]"
      ]
     },
     "execution_count": 19,
     "metadata": {},
     "output_type": "execute_result"
    },
    {
     "data": {
      "image/png": "[encoded data removed]",
      "text/plain": [
       "<Figure size 640x480 with 1 Axes>"
      ]
     },
     "metadata": {},
     "output_type": "display_data"
    }
   ],
   "source": [
    "plt.style.use(\"dark_background\")\n",
    "plt.plot(x_p,y_p)\n",
    "# y(x) = 0 --> solução trivial"
   ]
  },
  {
   "cell_type": "code",
   "execution_count": null,
   "id": "55f21a08-093e-4944-afb1-5b3e7bdc7560",
   "metadata": {},
   "outputs": [],
   "source": []
  }
 ],
 "metadata": {
  "kernelspec": {
   "display_name": "Python 3 (ipykernel)",
   "language": "python",
   "name": "python3"
  },
  "language_info": {
   "codemirror_mode": {
    "name": "ipython",
    "version": 3
   },
   "file_extension": ".py",
   "mimetype": "text/x-python",
   "name": "python",
   "nbconvert_exporter": "python",
   "pygments_lexer": "ipython3",
   "version": "3.12.2"
  }
 },
 "nbformat": 4,
 "nbformat_minor": 5
}
