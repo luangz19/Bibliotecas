{
 "cells": [
  {
   "cell_type": "code",
   "execution_count": null,
   "id": "92224b88-3937-48dc-ace0-82b174b90e73",
   "metadata": {},
   "outputs": [],
   "source": [
    "# A,C,u = (10,5,8)\n",
    "\n",
    "# def Model(t,z):\n",
    "#     x,l = z\n",
    "#     dxdt = (1/2)*x**2 + C*u\n",
    "#     dldt = -A + x*l\n",
    "#     return [dxdt,dldt]\n",
    "\n"
   ]
  }
 ],
 "metadata": {
  "kernelspec": {
   "display_name": "Python 3 (ipykernel)",
   "language": "python",
   "name": "python3"
  },
  "language_info": {
   "codemirror_mode": {
    "name": "ipython",
    "version": 3
   },
   "file_extension": ".py",
   "mimetype": "text/x-python",
   "name": "python",
   "nbconvert_exporter": "python",
   "pygments_lexer": "ipython3",
   "version": "3.12.2"
  }
 },
 "nbformat": 4,
 "nbformat_minor": 5
}
