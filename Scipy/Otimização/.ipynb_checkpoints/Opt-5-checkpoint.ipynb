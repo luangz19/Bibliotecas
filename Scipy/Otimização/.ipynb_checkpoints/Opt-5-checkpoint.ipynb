{
 "cells": [
  {
   "cell_type": "code",
   "execution_count": 13,
   "id": "a1452ec6-139c-46df-a157-85a7b8ddc014",
   "metadata": {},
   "outputs": [],
   "source": [
    "import numpy as np\n",
    "import matplotlib.pyplot as plt\n",
    "from scipy.optimize import curve_fit\n",
    "from sklearn.metrics import r2_score, root_mean_squared_error, mean_absolute_error"
   ]
  },
  {
   "cell_type": "markdown",
   "id": "8c11c3ff-9cf5-478e-b08d-0b437715aceb",
   "metadata": {},
   "source": [
    "$Y = \\Phi \\theta$\n",
    "\n",
    "$\\theta _{LS} = \\displaystyle (\\Phi ^{T} \\Phi)^{-1} \\Phi ^{T} Y$"
   ]
  },
  {
   "cell_type": "code",
   "execution_count": 14,
   "id": "43081925-7b97-40f5-8cae-fd8323f43a5a",
   "metadata": {},
   "outputs": [],
   "source": [
    "x = [0,1,2,3,4,5]\n",
    "y = [15,10,9,6,2,0]"
   ]
  },
  {
   "cell_type": "code",
   "execution_count": 3,
   "id": "e2030e68-3343-4119-98fa-facbc72cbf81",
   "metadata": {},
   "outputs": [
    {
     "data": {
      "text/plain": [
       "array([[15],\n",
       "       [10],\n",
       "       [ 9],\n",
       "       [ 6],\n",
       "       [ 2],\n",
       "       [ 0]])"
      ]
     },
     "execution_count": 3,
     "metadata": {},
     "output_type": "execute_result"
    }
   ],
   "source": [
    "listax = []\n",
    "listay = []\n",
    "for i in range(len(x)):\n",
    "    listax.append(([x[i],1]))\n",
    "    listay.append(([y[i]]))\n",
    "Phi = np.array(listax)\n",
    "Y = np.array(listay)\n",
    "Y"
   ]
  },
  {
   "cell_type": "code",
   "execution_count": 4,
   "id": "060eb654-2d07-464c-a3d2-ec57c837fb9f",
   "metadata": {},
   "outputs": [
    {
     "name": "stdout",
     "output_type": "stream",
     "text": [
      "[[-2.91428571]\n",
      " [14.28571429]]\n"
     ]
    }
   ],
   "source": [
    "theta_ls = np.linalg.inv(Phi.transpose() * np.mat(Phi)) * Phi.transpose() * Y\n",
    "print(theta_ls)"
   ]
  },
  {
   "cell_type": "code",
   "execution_count": 5,
   "id": "2e54ce69-750a-47ed-9f8f-f2f08d8fb53d",
   "metadata": {},
   "outputs": [],
   "source": [
    "x_data = np.linspace(0,5,10)\n",
    "y_data = theta_ls[0,0]*x_data + theta_ls[1,0]"
   ]
  },
  {
   "cell_type": "code",
   "execution_count": 6,
   "id": "2f4ca9c4-6d76-462b-a0d4-62d497ab1502",
   "metadata": {},
   "outputs": [
    {
     "data": {
      "text/plain": [
       "[<matplotlib.lines.Line2D at 0x7796c3a35370>]"
      ]
     },
     "execution_count": 6,
     "metadata": {},
     "output_type": "execute_result"
    },
    {
     "data": {
      "image/png": "[encoded data removed]",
      "text/plain": [
       "<Figure size 640x480 with 1 Axes>"
      ]
     },
     "metadata": {},
     "output_type": "display_data"
    }
   ],
   "source": [
    "plt.style.use(\"dark_background\")\n",
    "plt.plot(x,y,\"o\")\n",
    "plt.plot(x_data,y_data)"
   ]
  },
  {
   "cell_type": "code",
   "execution_count": 7,
   "id": "b5243b26-98ba-46d7-a80f-7080220d93f8",
   "metadata": {},
   "outputs": [
    {
     "name": "stdout",
     "output_type": "stream",
     "text": [
      "RMSE = 0.7496030695673288\n",
      "MAE = 0.6666666666666673\n",
      "R2 = 0.9773164167627836\n"
     ]
    }
   ],
   "source": [
    "f = lambda x: theta_ls[0,0]*x + theta_ls[1,0]\n",
    "y_pred = np.array(list(map(f,x)))\n",
    "RMSE = root_mean_squared_error(y_pred, np.array(y))\n",
    "MAE = mean_absolute_error(y_pred, np.array(y))\n",
    "R2 = r2_score(y_pred, np.array(y))\n",
    "print(f\"RMSE = {RMSE}\")\n",
    "print(f\"MAE = {MAE}\")\n",
    "print(f\"R2 = {R2}\")"
   ]
  },
  {
   "cell_type": "code",
   "execution_count": 17,
   "id": "cc8ef50a-6a31-4737-ab75-69dabfc8837b",
   "metadata": {},
   "outputs": [],
   "source": [
    "x = np.array([0,1,2,3,4,5])\n",
    "y = np.array([15,10,9,6,2,0])"
   ]
  },
  {
   "cell_type": "code",
   "execution_count": 20,
   "id": "5efa47e1-489d-4b73-9efb-8b096f874959",
   "metadata": {},
   "outputs": [
    {
     "name": "stdout",
     "output_type": "stream",
     "text": [
      "[-2.91428571 14.28571429]\n"
     ]
    }
   ],
   "source": [
    "def Model(t,a,b):\n",
    "    return a*t + b\n",
    "\n",
    "popt,pcov = curve_fit(Model,x,y)\n",
    "print(popt)"
   ]
  }
 ],
 "metadata": {
  "kernelspec": {
   "display_name": "Python 3 (ipykernel)",
   "language": "python",
   "name": "python3"
  },
  "language_info": {
   "codemirror_mode": {
    "name": "ipython",
    "version": 3
   },
   "file_extension": ".py",
   "mimetype": "text/x-python",
   "name": "python",
   "nbconvert_exporter": "python",
   "pygments_lexer": "ipython3",
   "version": "3.12.2"
  }
 },
 "nbformat": 4,
 "nbformat_minor": 5
}
