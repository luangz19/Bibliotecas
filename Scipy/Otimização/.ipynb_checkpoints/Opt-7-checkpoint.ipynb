{
 "cells": [
  {
   "cell_type": "code",
   "execution_count": 1,
   "id": "a384d1dd-1fbd-492e-a1fd-d2d9676bf8e4",
   "metadata": {},
   "outputs": [],
   "source": [
    "import pyomo.environ as pe\n",
    "import pyomo.opt as po"
   ]
  },
  {
   "cell_type": "markdown",
   "id": "96bb900a-6806-4d3c-a4fe-1afd483578ea",
   "metadata": {},
   "source": [
    "### Modelo Geral\n",
    "\n",
    "$ \\begin{align}\n",
    "& \\max \\quad \\sum_{i \\in \\mathbb{N}} c_i x_i\\\\\n",
    "& \\text{s.t.} \\quad \\sum_{i \\in \\mathbb{N}}  a_i x_i \\leq b \\\\\n",
    "& x_i \\in \\{0,1\\}, \\forall i \\in \\mathbb{N}\n",
    "\\end{align}$"
   ]
  },
  {
   "cell_type": "markdown",
   "id": "9e4679d0-e102-47df-ab58-9565c376e60b",
   "metadata": {},
   "source": [
    "### Modelo exemplo\n",
    "$ \\begin{align}\n",
    "\\max \\quad 3x_1 + 4x_2 + 5x_3 + 8x_4 + 9x_5 \\\\\n",
    "\\text{s.t.} \\quad 2x_1 + 3x_2 + 4x_3 + 5x_4 + 9x_5 \\leq 20 \\\\\n",
    "x_1, x_2, x_3, x_4, x_5 \\in \\{0,1\\}\n",
    "\\end{align}$"
   ]
  },
  {
   "cell_type": "code",
   "execution_count": 2,
   "id": "e3278b20-9313-41db-9840-7ad541fd9005",
   "metadata": {},
   "outputs": [],
   "source": [
    "solver = po.SolverFactory(\"glpk\")"
   ]
  },
  {
   "cell_type": "code",
   "execution_count": 3,
   "id": "2719d6aa-3b9c-430b-a009-0c702a6b3cd3",
   "metadata": {},
   "outputs": [],
   "source": [
    "model = pe.ConcreteModel()"
   ]
  },
  {
   "cell_type": "code",
   "execution_count": 4,
   "id": "48dc2c1c-a4b0-460c-a47a-3c4026b14a5a",
   "metadata": {},
   "outputs": [],
   "source": [
    "model.N = pe.RangeSet(1,5)"
   ]
  },
  {
   "cell_type": "code",
   "execution_count": 5,
   "id": "5c3727ab-f115-4462-9271-3a29d91d794c",
   "metadata": {},
   "outputs": [
    {
     "name": "stdout",
     "output_type": "stream",
     "text": [
      "{1, 2, 3, 4, 5}\n"
     ]
    }
   ],
   "source": [
    "print(set(model.N))"
   ]
  },
  {
   "cell_type": "code",
   "execution_count": 6,
   "id": "e3134cd7-5713-4cbb-8039-18119e63f3e2",
   "metadata": {},
   "outputs": [],
   "source": [
    "c = {1:3,2:4,3:5,4:8,5:9} # x1:3 + x2:4 + x3:5 ... função objetivo (max)\n",
    "a = {1:2,2:3,3:4,4:5,5:9} # x1:2 + x2:3 + x3:4 ... sujeito a restrição\n",
    "b = 20"
   ]
  },
  {
   "cell_type": "code",
   "execution_count": 7,
   "id": "adc9810a-c81c-4a90-8850-1d9f9b3839fb",
   "metadata": {},
   "outputs": [],
   "source": [
    "model.c = pe.Param(model.N, initialize=c)\n",
    "model.a = pe.Param(model.N, initialize=a)\n",
    "model.b = pe.Param(initialize=b)"
   ]
  },
  {
   "cell_type": "code",
   "execution_count": 8,
   "id": "2af55b9e-efec-4525-bfbf-397a3fa08718",
   "metadata": {},
   "outputs": [
    {
     "name": "stdout",
     "output_type": "stream",
     "text": [
      "c\n",
      "4\n",
      "b\n",
      "20\n"
     ]
    }
   ],
   "source": [
    "print(model.c)\n",
    "print(model.c[2])\n",
    "print(model.b)\n",
    "print(model.b.value)"
   ]
  },
  {
   "cell_type": "code",
   "execution_count": 9,
   "id": "ca042ec1-acb6-4f3b-9b04-bff49d4871f4",
   "metadata": {},
   "outputs": [],
   "source": [
    "model.x = pe.Var(model.N,domain=pe.Binary)"
   ]
  },
  {
   "cell_type": "code",
   "execution_count": 10,
   "id": "0b596846-f6d9-4ee2-ab15-169a194c9cf7",
   "metadata": {},
   "outputs": [
    {
     "name": "stdout",
     "output_type": "stream",
     "text": [
      "3*x[1] + 4*x[2] + 5*x[3] + 8*x[4] + 9*x[5]\n"
     ]
    }
   ],
   "source": [
    "obj_exp = sum(model.c[i] * model.x[i] for i in model.N)\n",
    "model.obj = pe.Objective(sense=pe.maximize, expr=obj_exp)\n",
    "print(obj_exp)"
   ]
  },
  {
   "cell_type": "code",
   "execution_count": 12,
   "id": "ed651500-062d-429c-aa65-7b48a9afa6e4",
   "metadata": {},
   "outputs": [],
   "source": [
    "con_lhs_expr = sum(model.a[i] * model.x[i] for i in model.N)\n",
    "con_rhs_expr = model.b\n",
    "model.con = pe.Constraint(expr=(con_lhs_expr <= con_rhs_expr))"
   ]
  },
  {
   "cell_type": "code",
   "execution_count": 13,
   "id": "2088838c-6a6d-480f-abb0-3b00fb582971",
   "metadata": {},
   "outputs": [],
   "source": [
    "result = solver.solve(model)"
   ]
  },
  {
   "cell_type": "code",
   "execution_count": 14,
   "id": "64f6e1fa-832f-4591-80b7-ff17772a3d3e",
   "metadata": {},
   "outputs": [
    {
     "name": "stdout",
     "output_type": "stream",
     "text": [
      "1.0\n",
      "0.0\n",
      "1.0\n",
      "1.0\n",
      "1.0\n",
      "25.0\n"
     ]
    }
   ],
   "source": [
    "for i in model.N:\n",
    "    print(pe.value(model.x[i]))\n",
    "print(pe.value(model.obj))"
   ]
  }
 ],
 "metadata": {
  "kernelspec": {
   "display_name": "Python 3 (ipykernel)",
   "language": "python",
   "name": "python3"
  },
  "language_info": {
   "codemirror_mode": {
    "name": "ipython",
    "version": 3
   },
   "file_extension": ".py",
   "mimetype": "text/x-python",
   "name": "python",
   "nbconvert_exporter": "python",
   "pygments_lexer": "ipython3",
   "version": "3.12.2"
  }
 },
 "nbformat": 4,
 "nbformat_minor": 5
}
