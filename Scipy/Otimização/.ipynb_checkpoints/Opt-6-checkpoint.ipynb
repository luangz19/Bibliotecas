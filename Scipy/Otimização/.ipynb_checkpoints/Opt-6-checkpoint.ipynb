{
 "cells": [
  {
   "cell_type": "code",
   "execution_count": 17,
   "id": "4f890caf-f30a-4f59-84bd-327ca3352678",
   "metadata": {},
   "outputs": [],
   "source": [
    "import pyomo.environ as pe\n",
    "import pyomo.opt as po\n",
    "import numpy as np"
   ]
  },
  {
   "cell_type": "markdown",
   "id": "ba56a3a2-6830-4c04-abdd-6a6956ab169b",
   "metadata": {},
   "source": [
    "### Modelo\n",
    "\n",
    "$ \\begin{align}\n",
    "\\max \\quad 3x_1 + 4x_2 + 5x_3 + 8x_4 + 9x_5 \\\\\n",
    "\\text{s.t.} \\quad 2x_1 + 3x_2 + 4x_3 + 5x_4 + 9x_5 \\leq 20 \\\\\n",
    "x_1, x_2, x_3, x_4, x_5 \\in \\{0,1\\}\n",
    "\\end{align}$"
   ]
  },
  {
   "cell_type": "markdown",
   "id": "14f4b0b7-7e9b-417d-a753-c7b36327f155",
   "metadata": {},
   "source": [
    "### Implementação"
   ]
  },
  {
   "cell_type": "code",
   "execution_count": 28,
   "id": "5725954e-369e-42e7-bc05-f6c51697de03",
   "metadata": {},
   "outputs": [],
   "source": [
    "solver = po.SolverFactory(\"glpk\")\n",
    "\n",
    "model = pe.ConcreteModel()\n",
    "\n",
    "model.x1 = pe.Var(domain=pe.Binary)\n",
    "model.x2 = pe.Var(domain=pe.Binary)\n",
    "model.x3 = pe.Var(domain=pe.Binary)\n",
    "model.x4 = pe.Var(domain=pe.Binary)\n",
    "model.x5 = pe.Var(domain=pe.Binary)"
   ]
  },
  {
   "cell_type": "code",
   "execution_count": 29,
   "id": "7fe551ff-a1c5-4c16-a395-7f7d10ef5eb4",
   "metadata": {},
   "outputs": [],
   "source": [
    "obj_exp = 3*model.x1 + 4*model.x2 + 5*model.x3 + 8*model.x4 + 9*model.x5\n",
    "model.obj = pe.Objective(sense=pe.maximize, expr = obj_exp)"
   ]
  },
  {
   "cell_type": "code",
   "execution_count": 30,
   "id": "6a03b747-8efb-45f1-8425-9948eec23ad8",
   "metadata": {},
   "outputs": [],
   "source": [
    "con_exp = 2*model.x1 + 3*model.x2 + 4*model.x3 + 5*model.x4 + 9*model.x5 <= 20\n",
    "model.con = pe.Constraint(expr=con_exp)"
   ]
  },
  {
   "cell_type": "markdown",
   "id": "a647699d-ec1f-4993-8822-25e3697e392d",
   "metadata": {},
   "source": [
    "### Resolvendo e Printando o processo"
   ]
  },
  {
   "cell_type": "code",
   "execution_count": 31,
   "id": "46cfc932-0bae-41e8-b844-173d634a095d",
   "metadata": {},
   "outputs": [],
   "source": [
    "result = solver.solve(model) #tee=True)"
   ]
  },
  {
   "cell_type": "code",
   "execution_count": 32,
   "id": "e2a5ec32-85b4-45e0-a344-a59c6c49eb8c",
   "metadata": {},
   "outputs": [
    {
     "name": "stdout",
     "output_type": "stream",
     "text": [
      "1.0\n",
      "0.0\n",
      "1.0\n",
      "1.0\n",
      "1.0\n",
      "25.0\n"
     ]
    }
   ],
   "source": [
    "print(pe.value(model.x1))\n",
    "print(pe.value(model.x2))\n",
    "print(pe.value(model.x3))\n",
    "print(pe.value(model.x4))\n",
    "print(pe.value(model.x5))\n",
    "print(pe.value(model.obj))"
   ]
  },
  {
   "cell_type": "code",
   "execution_count": 37,
   "id": "a5ca3912-7db9-41c8-9968-3f49005f50e6",
   "metadata": {},
   "outputs": [],
   "source": [
    "solver = po.SolverFactory(\"glpk\")\n",
    "\n",
    "model = pe.ConcreteModel()\n",
    "\n",
    "model.x1 = pe.Var(domain=pe.Binary)\n",
    "model.x2 = pe.Var(domain=pe.Binary)\n",
    "model.x3 = pe.Var(domain=pe.Binary)\n",
    "model.x4 = pe.Var(domain=pe.Binary)\n",
    "model.x5 = pe.Var(domain=pe.Binary)"
   ]
  },
  {
   "cell_type": "code",
   "execution_count": 38,
   "id": "43a4031a-146e-481c-bf25-9d1b963b50e1",
   "metadata": {},
   "outputs": [
    {
     "name": "stdout",
     "output_type": "stream",
     "text": [
      "3*x1 + 4*x2 + 5*x3 + 8*x4 + 9*x5\n"
     ]
    }
   ],
   "source": [
    "u =  np.array([model.x1,model.x2,model.x3,model.x4,model.x5])\n",
    "v =  np.array([3,4,5,8,9])\n",
    "obj_exp = u @ v # protudo interno\n",
    "model.obj = pe.Objective(sense=pe.maximize, expr = obj_exp)\n",
    "print(obj_exp)"
   ]
  },
  {
   "cell_type": "code",
   "execution_count": 39,
   "id": "9af1ad4a-e803-4676-9ec9-4f905906cc39",
   "metadata": {},
   "outputs": [
    {
     "name": "stdout",
     "output_type": "stream",
     "text": [
      "2*x1 + 3*x2 + 4*x3 + 5*x4 + 9*x5  <=  20\n"
     ]
    }
   ],
   "source": [
    "w = np.array([2,3,4,5,9])\n",
    "con_exp = u @ w <= 20 # protudo interno\n",
    "model.con = pe.Constraint(expr=con_exp)\n",
    "print(con_exp)"
   ]
  },
  {
   "cell_type": "markdown",
   "id": "9399af5f-881a-4fa0-bf42-ad6750e2691e",
   "metadata": {},
   "source": [
    "### Resolvendo e Printando o processo"
   ]
  },
  {
   "cell_type": "code",
   "execution_count": 41,
   "id": "cf3f3095-e5f6-41ee-945d-444eda881c81",
   "metadata": {},
   "outputs": [],
   "source": [
    "result = solver.solve(model) #tee=True)"
   ]
  },
  {
   "cell_type": "code",
   "execution_count": 42,
   "id": "c1ce2b3d-e7aa-4687-82c2-84aee51737d7",
   "metadata": {},
   "outputs": [
    {
     "name": "stdout",
     "output_type": "stream",
     "text": [
      "[1.0, 0.0, 1.0, 1.0, 1.0]\n",
      "25.0\n"
     ]
    }
   ],
   "source": [
    "sol = [pe.value(models) for models in u]\n",
    "print(sol)\n",
    "print(pe.value(model.obj))"
   ]
  }
 ],
 "metadata": {
  "kernelspec": {
   "display_name": "Python 3 (ipykernel)",
   "language": "python",
   "name": "python3"
  },
  "language_info": {
   "codemirror_mode": {
    "name": "ipython",
    "version": 3
   },
   "file_extension": ".py",
   "mimetype": "text/x-python",
   "name": "python",
   "nbconvert_exporter": "python",
   "pygments_lexer": "ipython3",
   "version": "3.12.2"
  }
 },
 "nbformat": 4,
 "nbformat_minor": 5
}
