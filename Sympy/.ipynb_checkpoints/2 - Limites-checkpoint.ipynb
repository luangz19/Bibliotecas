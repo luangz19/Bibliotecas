{
 "cells": [
  {
   "cell_type": "markdown",
   "id": "e35be269-0c08-45a1-b3f4-e49ae5406d52",
   "metadata": {},
   "source": [
    "### Limites de funções em $\\mathbb{R}$\n",
    "$ \\displaystyle \\lim_{x \\to a}f(x) = L$"
   ]
  },
  {
   "cell_type": "code",
   "execution_count": 1,
   "id": "b1e5979b-9891-4f85-a376-97bddbf27e83",
   "metadata": {},
   "outputs": [],
   "source": [
    "import matplotlib.pyplot as plt\n",
    "import sympy as sp"
   ]
  },
  {
   "cell_type": "code",
   "execution_count": 2,
   "id": "1b009a21-17ed-4c25-be0a-298e3a60ecd3",
   "metadata": {},
   "outputs": [],
   "source": [
    "x,a,b,c = sp.symbols('x a b c')"
   ]
  },
  {
   "cell_type": "code",
   "execution_count": 3,
   "id": "470571e3-f3b9-44af-93fe-4b0d2124a25d",
   "metadata": {},
   "outputs": [
    {
     "data": {
      "text/latex": [
       "$\\displaystyle 3 x + 4$"
      ],
      "text/plain": [
       "3*x + 4"
      ]
     },
     "execution_count": 3,
     "metadata": {},
     "output_type": "execute_result"
    }
   ],
   "source": [
    "f = 3*x + 4\n",
    "f"
   ]
  },
  {
   "cell_type": "code",
   "execution_count": 4,
   "id": "e3df81cc-784f-4f33-b5d6-a4b9c28193de",
   "metadata": {},
   "outputs": [
    {
     "data": {
      "text/latex": [
       "$\\displaystyle 19$"
      ],
      "text/plain": [
       "19"
      ]
     },
     "execution_count": 4,
     "metadata": {},
     "output_type": "execute_result"
    }
   ],
   "source": [
    "#limite de f(x) quando x tende a 5\n",
    "sp.limit(f,x,5) "
   ]
  },
  {
   "cell_type": "code",
   "execution_count": 5,
   "id": "5eeccb3a-8e7a-4470-9bda-679fca20bec7",
   "metadata": {},
   "outputs": [
    {
     "data": {
      "text/latex": [
       "$\\displaystyle 8480$"
      ],
      "text/plain": [
       "8480"
      ]
     },
     "execution_count": 5,
     "metadata": {},
     "output_type": "execute_result"
    }
   ],
   "source": [
    "# limite de f(x) quando x tende a 45\n",
    "f = 4*x**2 + 8*x + 20\n",
    "sp.limit(f,x,45) "
   ]
  },
  {
   "cell_type": "code",
   "execution_count": 6,
   "id": "8555175c-35e0-41fa-a48f-1f7a1ff2885a",
   "metadata": {},
   "outputs": [
    {
     "data": {
      "text/latex": [
       "$\\displaystyle e^{x}$"
      ],
      "text/plain": [
       "exp(x)"
      ]
     },
     "execution_count": 6,
     "metadata": {},
     "output_type": "execute_result"
    }
   ],
   "source": [
    "# Função Exponencial\n",
    "f = sp.exp(x)\n",
    "f"
   ]
  },
  {
   "cell_type": "code",
   "execution_count": 7,
   "id": "7084efd8-20f9-4204-93fb-945cfbaf3da7",
   "metadata": {},
   "outputs": [
    {
     "data": {
      "text/latex": [
       "$\\displaystyle e^{-5}$"
      ],
      "text/plain": [
       "exp(-5)"
      ]
     },
     "execution_count": 7,
     "metadata": {},
     "output_type": "execute_result"
    }
   ],
   "source": [
    "# limite de f(x) quando x tende a -5\n",
    "sp.limit(f,x,-5) "
   ]
  },
  {
   "cell_type": "code",
   "execution_count": 8,
   "id": "977af64d-3e27-4a03-bc82-07a755100083",
   "metadata": {},
   "outputs": [
    {
     "data": {
      "text/latex": [
       "$\\displaystyle \\log{\\left(x \\right)}$"
      ],
      "text/plain": [
       "log(x)"
      ]
     },
     "execution_count": 8,
     "metadata": {},
     "output_type": "execute_result"
    }
   ],
   "source": [
    "# Função Logarítima\n",
    "f = sp.log(x)\n",
    "f"
   ]
  },
  {
   "cell_type": "code",
   "execution_count": 9,
   "id": "4e0cfd14-0f29-46e8-b8c8-6086f2ef0f18",
   "metadata": {},
   "outputs": [
    {
     "data": {
      "text/latex": [
       "$\\displaystyle \\log{\\left(8 \\right)}$"
      ],
      "text/plain": [
       "log(8)"
      ]
     },
     "execution_count": 9,
     "metadata": {},
     "output_type": "execute_result"
    }
   ],
   "source": [
    "# limite de f(x) quando x tende a 8\n",
    "sp.limit(f,x,8) "
   ]
  },
  {
   "cell_type": "code",
   "execution_count": 10,
   "id": "db502d3c-cdba-4ba7-b6fb-b38556b43ef3",
   "metadata": {},
   "outputs": [
    {
     "data": {
      "text/latex": [
       "$\\displaystyle \\sin{\\left(x \\right)}$"
      ],
      "text/plain": [
       "sin(x)"
      ]
     },
     "execution_count": 10,
     "metadata": {},
     "output_type": "execute_result"
    }
   ],
   "source": [
    "# Função Seno\n",
    "f = sp.sin(x)\n",
    "f"
   ]
  },
  {
   "cell_type": "code",
   "execution_count": 11,
   "id": "9178c50b-b907-44a5-b5c8-4ad6a2988da3",
   "metadata": {},
   "outputs": [
    {
     "data": {
      "text/latex": [
       "$\\displaystyle 0$"
      ],
      "text/plain": [
       "0"
      ]
     },
     "execution_count": 11,
     "metadata": {},
     "output_type": "execute_result"
    }
   ],
   "source": [
    "# limite de f(x) quando x tende a 2pi\n",
    "sp.limit(f,x,2*sp.pi) "
   ]
  },
  {
   "cell_type": "code",
   "execution_count": 12,
   "id": "a4ca748a-28c5-4774-8a46-6189a9d6304a",
   "metadata": {},
   "outputs": [
    {
     "data": {
      "text/latex": [
       "$\\displaystyle \\cos{\\left(x \\right)}$"
      ],
      "text/plain": [
       "cos(x)"
      ]
     },
     "execution_count": 12,
     "metadata": {},
     "output_type": "execute_result"
    }
   ],
   "source": [
    "# Função Cosseno\n",
    "f = sp.cos(x)\n",
    "f"
   ]
  },
  {
   "cell_type": "code",
   "execution_count": 13,
   "id": "e1e3c6bc-05e3-430c-91c2-895e5953554c",
   "metadata": {},
   "outputs": [
    {
     "data": {
      "text/latex": [
       "$\\displaystyle 1$"
      ],
      "text/plain": [
       "1"
      ]
     },
     "execution_count": 13,
     "metadata": {},
     "output_type": "execute_result"
    }
   ],
   "source": [
    "# limite de f(x) quando x tende a 2pi\n",
    "sp.limit(f,x,2*sp.pi) "
   ]
  },
  {
   "cell_type": "code",
   "execution_count": 14,
   "id": "28aa3bfa-4c00-4ca3-8319-521591a9f5cc",
   "metadata": {},
   "outputs": [
    {
     "data": {
      "text/latex": [
       "$\\displaystyle \\tan{\\left(x \\right)}$"
      ],
      "text/plain": [
       "tan(x)"
      ]
     },
     "execution_count": 14,
     "metadata": {},
     "output_type": "execute_result"
    }
   ],
   "source": [
    "f = sp.tan(x)\n",
    "f"
   ]
  },
  {
   "cell_type": "code",
   "execution_count": 15,
   "id": "2e98f129-81f3-4e2c-a4e4-2d74a7472a00",
   "metadata": {},
   "outputs": [
    {
     "data": {
      "text/latex": [
       "$\\displaystyle -\\infty$"
      ],
      "text/plain": [
       "-oo"
      ]
     },
     "execution_count": 15,
     "metadata": {},
     "output_type": "execute_result"
    }
   ],
   "source": [
    "# limite de f(x) quando x tende a pi/2\n",
    "sp.limit(f,x,sp.pi/2) "
   ]
  },
  {
   "cell_type": "code",
   "execution_count": 16,
   "id": "f69bc454-295e-443e-b3cb-06027eeeb724",
   "metadata": {},
   "outputs": [
    {
     "data": {
      "text/latex": [
       "$\\displaystyle \\sqrt{x}$"
      ],
      "text/plain": [
       "sqrt(x)"
      ]
     },
     "execution_count": 16,
     "metadata": {},
     "output_type": "execute_result"
    }
   ],
   "source": [
    "f = sp.sqrt(x)\n",
    "f"
   ]
  },
  {
   "cell_type": "code",
   "execution_count": 17,
   "id": "5ea04ba1-2044-4e9d-b0da-2d83bc002775",
   "metadata": {},
   "outputs": [
    {
     "data": {
      "text/latex": [
       "$\\displaystyle \\infty$"
      ],
      "text/plain": [
       "oo"
      ]
     },
     "execution_count": 17,
     "metadata": {},
     "output_type": "execute_result"
    }
   ],
   "source": [
    "# limite de f(x) quando x tende a oo\n",
    "sp.limit(f,x,sp.oo) "
   ]
  },
  {
   "cell_type": "code",
   "execution_count": 31,
   "id": "0b8ec7e5-d33c-4187-8ad0-e31ac39e54db",
   "metadata": {},
   "outputs": [
    {
     "data": {
      "text/latex": [
       "$\\displaystyle 2^{\\frac{1}{x}}$"
      ],
      "text/plain": [
       "2**(1/x)"
      ]
     },
     "execution_count": 31,
     "metadata": {},
     "output_type": "execute_result"
    }
   ],
   "source": [
    "f = 2**(1/x)\n",
    "f"
   ]
  },
  {
   "cell_type": "code",
   "execution_count": 32,
   "id": "dfefb8a7-c7ad-4d8d-a4f5-7a11b49c77c7",
   "metadata": {},
   "outputs": [
    {
     "data": {
      "image/png": "[encoded data removed]",
      "text/plain": [
       "<Figure size 640x480 with 1 Axes>"
      ]
     },
     "metadata": {},
     "output_type": "display_data"
    },
    {
     "data": {
      "text/plain": [
       "<sympy.plotting.backends.matplotlibbackend.matplotlib.MatplotlibBackend at 0x7e3ce06dfd40>"
      ]
     },
     "execution_count": 32,
     "metadata": {},
     "output_type": "execute_result"
    }
   ],
   "source": [
    "plt.style.use(\"dark_background\")\n",
    "sp.plot(f,(x,0.5,2))"
   ]
  },
  {
   "cell_type": "code",
   "execution_count": 33,
   "id": "21fc768c-b40d-4ee1-9b3d-73e9a0390cd2",
   "metadata": {},
   "outputs": [
    {
     "data": {
      "text/latex": [
       "$\\displaystyle 1$"
      ],
      "text/plain": [
       "1"
      ]
     },
     "execution_count": 33,
     "metadata": {},
     "output_type": "execute_result"
    }
   ],
   "source": [
    "# limite de f(x) quando x tende a oo\n",
    "sp.limit(f,x,sp.oo) "
   ]
  },
  {
   "cell_type": "code",
   "execution_count": 35,
   "id": "59bce3d7-fb01-4303-ba1a-88b343c0431a",
   "metadata": {},
   "outputs": [
    {
     "data": {
      "text/latex": [
       "$\\displaystyle \\sqrt[10000]{2}$"
      ],
      "text/plain": [
       "2**(1/10000)"
      ]
     },
     "execution_count": 35,
     "metadata": {},
     "output_type": "execute_result"
    }
   ],
   "source": [
    "# limite de f(x) quando x tende a 10000\n",
    "sp.limit(f,x,10000)"
   ]
  },
  {
   "cell_type": "code",
   "execution_count": 36,
   "id": "02bbe227-6d1a-43d5-9fe4-0cec6663f205",
   "metadata": {},
   "outputs": [
    {
     "data": {
      "image/png": "[encoded data removed]",
      "text/plain": [
       "<Figure size 640x480 with 1 Axes>"
      ]
     },
     "metadata": {},
     "output_type": "display_data"
    },
    {
     "data": {
      "text/plain": [
       "<sympy.plotting.backends.matplotlibbackend.matplotlib.MatplotlibBackend at 0x7e3ce054ac30>"
      ]
     },
     "execution_count": 36,
     "metadata": {},
     "output_type": "execute_result"
    }
   ],
   "source": [
    "sp.plot(f,(x,0.5,10000))"
   ]
  },
  {
   "cell_type": "code",
   "execution_count": null,
   "id": "1f9a6769-15d9-476e-98c8-2f88aac1c9ab",
   "metadata": {},
   "outputs": [],
   "source": []
  }
 ],
 "metadata": {
  "kernelspec": {
   "display_name": "Python 3 (ipykernel)",
   "language": "python",
   "name": "python3"
  },
  "language_info": {
   "codemirror_mode": {
    "name": "ipython",
    "version": 3
   },
   "file_extension": ".py",
   "mimetype": "text/x-python",
   "name": "python",
   "nbconvert_exporter": "python",
   "pygments_lexer": "ipython3",
   "version": "3.12.2"
  }
 },
 "nbformat": 4,
 "nbformat_minor": 5
}
